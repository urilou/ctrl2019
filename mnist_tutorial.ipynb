{
  "nbformat": 4,
  "nbformat_minor": 0,
  "metadata": {
    "colab": {
      "name": "mnist_tutorial.ipynb",
      "version": "0.3.2",
      "provenance": [],
      "collapsed_sections": []
    },
    "kernelspec": {
      "name": "python3",
      "display_name": "Python 3"
    }
  },
  "cells": [
    {
      "metadata": {
        "id": "L8EPSj24gaBK",
        "colab_type": "code",
        "colab": {}
      },
      "cell_type": "code",
      "source": [
        "# 標準出力\n",
        "print('{}'.format('hello, world'))"
      ],
      "execution_count": 0,
      "outputs": []
    },
    {
      "metadata": {
        "id": "WjSxF__bWPZZ",
        "colab_type": "code",
        "colab": {}
      },
      "cell_type": "code",
      "source": [
        "# 関数\n",
        "def add(x, y):\n",
        "    print(x + y)\n",
        "\n",
        "add(3, 5)"
      ],
      "execution_count": 0,
      "outputs": []
    },
    {
      "metadata": {
        "id": "rT4hjpKzNUMP",
        "colab_type": "code",
        "colab": {}
      },
      "cell_type": "code",
      "source": [
        "# データの取得\n",
        "import keras\n",
        "mnist = keras.datasets.mnist\n",
        "(train_images, train_labels), (test_images, test_labels) = mnist.load_data()"
      ],
      "execution_count": 0,
      "outputs": []
    },
    {
      "metadata": {
        "id": "bvRKqlNmUpnT",
        "colab_type": "code",
        "colab": {}
      },
      "cell_type": "code",
      "source": [
        "train_images_size = len(train_images)\n",
        "test_images_size = len(test_images)\n",
        "print('訓練データ数 => {}'.format(train_images_size))\n",
        "print('テストデータ数 => {}'.format(test_images_size))\n",
        "\n",
        "image_size = train_images[0].size\n",
        "image_height = train_images[0].shape[0]\n",
        "image_width = train_images[0].shape[1]\n",
        "print('画像のサイズ => {}\\n縦の大きさ => {}\\n横の大きさ => {}'.format(image_size, image_width, image_height))"
      ],
      "execution_count": 0,
      "outputs": []
    },
    {
      "metadata": {
        "id": "GvtoSA2tSxbE",
        "colab_type": "code",
        "colab": {}
      },
      "cell_type": "code",
      "source": [
        "# 0番目のデータを表示する\n",
        "# print(train_images[0])"
      ],
      "execution_count": 0,
      "outputs": []
    },
    {
      "metadata": {
        "id": "9n1fWRN4Verr",
        "colab_type": "code",
        "colab": {}
      },
      "cell_type": "code",
      "source": [
        "import numpy as np\n",
        "\n",
        "# 正規化したとき小数で表現できるようにfloatに変換\n",
        "train_images = train_images.astype(np.float)\n",
        "\n",
        "# 明るさを0～1に正規化する\n",
        "train_images = np.multiply(train_images, 1.0 / 255.0)"
      ],
      "execution_count": 0,
      "outputs": []
    },
    {
      "metadata": {
        "id": "anCJs426c_73",
        "colab_type": "code",
        "colab": {}
      },
      "cell_type": "code",
      "source": [
        "# 画像の可視化\n",
        "def display(img):    \n",
        "    import matplotlib.pyplot as plt\n",
        "    import matplotlib.cm as cm\n",
        "    one_image = img.reshape(image_width, image_height)\n",
        "    plt.imshow(one_image, cmap=cm.binary)\n",
        "\n",
        "# 表示する画像を指定する\n",
        "IMAGE_TO_DISPLAY = 20\n",
        "\n",
        "# ラベルの文字\n",
        "print(train_labels[IMAGE_TO_DISPLAY])\n",
        "display(train_images[IMAGE_TO_DISPLAY])"
      ],
      "execution_count": 0,
      "outputs": []
    },
    {
      "metadata": {
        "id": "eB3QT2aVV4BO",
        "colab_type": "code",
        "colab": {}
      },
      "cell_type": "code",
      "source": [
        "# 画像を1次元配列に変換\n",
        "train_images = train_images.reshape([train_images_size, image_size])\n",
        "print(train_images[IMAGE_TO_DISPLAY].size)"
      ],
      "execution_count": 0,
      "outputs": []
    },
    {
      "metadata": {
        "id": "724GK85pVMlD",
        "colab_type": "code",
        "colab": {}
      },
      "cell_type": "code",
      "source": [
        "labels_count = np.unique(train_labels).shape[0]\n",
        "print('ラベルの種類 => {}'.format(labels_count))"
      ],
      "execution_count": 0,
      "outputs": []
    },
    {
      "metadata": {
        "id": "0G22cX6nUrM6",
        "colab_type": "code",
        "colab": {}
      },
      "cell_type": "code",
      "source": [
        "# 検証データに回す量\n",
        "VALIDATION_SIZE = 2000\n",
        "\n",
        "# ランダムに並べ替える\n",
        "# シードを同じにすることで画像とラベルの対応が崩れないようにしている\n",
        "rand = np.random.randint(0, 9)\n",
        "np.random.seed(rand)\n",
        "np.random.shuffle(train_images)\n",
        "np.random.seed(rand)\n",
        "np.random.shuffle(train_labels)"
      ],
      "execution_count": 0,
      "outputs": []
    },
    {
      "metadata": {
        "id": "97Np6RqkR_aI",
        "colab_type": "code",
        "colab": {}
      },
      "cell_type": "code",
      "source": [
        "# 訓練データと検証データに分離\n",
        "validation_images = train_images[:VALIDATION_SIZE]\n",
        "validation_labels = train_labels[:VALIDATION_SIZE]\n",
        "\n",
        "train_images = train_images[VALIDATION_SIZE:]\n",
        "train_labels = train_labels[VALIDATION_SIZE:]\n",
        "\n",
        "train_images_size = train_images.shape[0]\n",
        "validation_images_size = validation_images.shape[0]\n",
        "\n",
        "print('訓練データ数 => {}\\n検証データ数 => {}'.format(train_images_size, validation_images_size))"
      ],
      "execution_count": 0,
      "outputs": []
    },
    {
      "metadata": {
        "id": "BBKYgczFSJwq",
        "colab_type": "code",
        "colab": {}
      },
      "cell_type": "code",
      "source": [
        "# One-hotベクトルを作る\n",
        "from keras.utils import np_utils\n",
        "train_labels = np_utils.to_categorical(train_labels).astype(np.uint8)\n",
        "print(train_labels[IMAGE_TO_DISPLAY])"
      ],
      "execution_count": 0,
      "outputs": []
    },
    {
      "metadata": {
        "id": "0PztzReLapXI",
        "colab_type": "code",
        "colab": {}
      },
      "cell_type": "code",
      "source": [
        "import tensorflow as tf\n",
        "\n",
        "# 定数の例\n",
        "c = tf.constant('hello, world')\n",
        "with tf.Session() as sess:\n",
        "    print(sess.run(c))"
      ],
      "execution_count": 0,
      "outputs": []
    },
    {
      "metadata": {
        "id": "_iX1vwdTedHL",
        "colab_type": "code",
        "colab": {}
      },
      "cell_type": "code",
      "source": [
        "# 変数の例\n",
        "def calc():\n",
        "    w = tf.Variable(10)\n",
        "    # （Variableで警告が出るが気にしないで進める）\n",
        "    x = tf.constant(5)\n",
        "    return tf.assign(w, w + x)\n",
        "  \n",
        "with tf.Session() as sess:\n",
        "    c = calc()\n",
        "    # 変数を使う場合は定義後、実行前に初期化が必要\n",
        "    init = tf.global_variables_initializer()\n",
        "    sess.run(init)\n",
        "    print(sess.run(c))"
      ],
      "execution_count": 0,
      "outputs": []
    },
    {
      "metadata": {
        "id": "-Eujghb-gN7S",
        "colab_type": "code",
        "colab": {}
      },
      "cell_type": "code",
      "source": [
        "# プレースホルダの例\n",
        "x = tf.placeholder(tf.float32)\n",
        "y = tf.square(x)\n",
        "\n",
        "with tf.Session() as sess:\n",
        "    print(sess.run(y, feed_dict={x: 20}))\n",
        "# どちらでも実行できる\n",
        "sess = tf.InteractiveSession()\n",
        "print(sess.run(y, feed_dict={x: 20}))\n",
        "sess.close()"
      ],
      "execution_count": 0,
      "outputs": []
    },
    {
      "metadata": {
        "id": "UjUYY1LUgUsb",
        "colab_type": "code",
        "colab": {}
      },
      "cell_type": "code",
      "source": [
        "# 畳込み\n",
        "def conv2d(x, W):\n",
        "    # x: 入力（テンソル）\n",
        "    # W: フィルタ\n",
        "    return tf.nn.conv2d(x, W, strides=[1, 1, 1, 1], padding='SAME')\n",
        "\n",
        "# プーリング\n",
        "def max_pool_2x2(x):\n",
        "    # x: 入力\n",
        "    return tf.nn.max_pool(x, ksize=[1, 2, 2, 1], strides=[1, 2, 2, 1], padding='SAME')"
      ],
      "execution_count": 0,
      "outputs": []
    },
    {
      "metadata": {
        "id": "9VknI3_ngi1J",
        "colab_type": "code",
        "colab": {}
      },
      "cell_type": "code",
      "source": [
        "# 重み\n",
        "def weight_variable(shape):\n",
        "    initial = tf.truncated_normal(shape, stddev=0.1)\n",
        "    return tf.Variable(initial)\n",
        "\n",
        "# バイアス\n",
        "def bias_variable(shape):\n",
        "    initial = tf.constant(0.1, shape=shape)\n",
        "    return tf.Variable(initial)"
      ],
      "execution_count": 0,
      "outputs": []
    },
    {
      "metadata": {
        "id": "L1yz9QHCiKhE",
        "colab_type": "code",
        "colab": {}
      },
      "cell_type": "code",
      "source": [
        "# 画像のプレースホルダ\n",
        "x = tf.placeholder('float', shape=[None, image_size])\n",
        "# ラベルのプレースホルダ\n",
        "y_ = tf.placeholder('float', shape=[None, labels_count])"
      ],
      "execution_count": 0,
      "outputs": []
    },
    {
      "metadata": {
        "id": "YllWW2k6iRJ8",
        "colab_type": "code",
        "colab": {}
      },
      "cell_type": "code",
      "source": [
        "# 画像の次元を変換する（入力層）\n",
        "image = tf.reshape(x, [-1,image_width , image_height,1])\n",
        "\n",
        "# 1つ目の畳み込み層\n",
        "W_conv1 = weight_variable([5, 5, 1, 32])\n",
        "b_conv1 = bias_variable([32])\n",
        "\n",
        "# 畳込みして活性化関数に通す\n",
        "h_conv1 = tf.nn.relu(conv2d(image, W_conv1) + b_conv1)\n",
        "# 最大プーリング\n",
        "h_pool1 = max_pool_2x2(h_conv1)"
      ],
      "execution_count": 0,
      "outputs": []
    },
    {
      "metadata": {
        "id": "79jwaCVxiTUi",
        "colab_type": "code",
        "colab": {}
      },
      "cell_type": "code",
      "source": [
        "# 2つ目の畳み込み層\n",
        "W_conv2 = weight_variable([5, 5, 32, 64])\n",
        "b_conv2 = bias_variable([64])\n",
        "\n",
        "h_conv2 = tf.nn.relu(conv2d(h_pool1, W_conv2) + b_conv2)\n",
        "h_pool2 = max_pool_2x2(h_conv2)"
      ],
      "execution_count": 0,
      "outputs": []
    },
    {
      "metadata": {
        "id": "LkvKHfemiXTi",
        "colab_type": "code",
        "colab": {}
      },
      "cell_type": "code",
      "source": [
        "# 画像の次元を変換する\n",
        "h_pool2_flat = tf.reshape(h_pool2, [-1, 7 * 7 * 64])\n",
        "\n",
        "# 全結合層\n",
        "W_fc1 = weight_variable([7 * 7 * 64, 1024])\n",
        "b_fc1 = bias_variable([1024])\n",
        "\n",
        "h_fc1 = tf.nn.relu(tf.matmul(h_pool2_flat, W_fc1) + b_fc1)"
      ],
      "execution_count": 0,
      "outputs": []
    },
    {
      "metadata": {
        "id": "j17gEPf3iZgo",
        "colab_type": "code",
        "colab": {}
      },
      "cell_type": "code",
      "source": [
        "# ドロップアウト\n",
        "rate = tf.placeholder('float')\n",
        "h_fc1_drop = tf.nn.dropout(h_fc1, rate=rate)"
      ],
      "execution_count": 0,
      "outputs": []
    },
    {
      "metadata": {
        "id": "u5WN8_J9ib2z",
        "colab_type": "code",
        "colab": {}
      },
      "cell_type": "code",
      "source": [
        "# 出力層\n",
        "W_fc2 = weight_variable([1024, labels_count])\n",
        "b_fc2 = bias_variable([labels_count])\n",
        "\n",
        "y = tf.nn.softmax(tf.matmul(h_fc1_drop, W_fc2) + b_fc2)"
      ],
      "execution_count": 0,
      "outputs": []
    },
    {
      "metadata": {
        "id": "q-5l3vmqieWB",
        "colab_type": "code",
        "colab": {}
      },
      "cell_type": "code",
      "source": [
        "# 損失関数\n",
        "cross_entropy = -tf.reduce_sum(y_*tf.log(y))\n",
        "\n",
        "# 最適化関数\n",
        "LEARNING_RATE = 1e-4\n",
        "train_step = tf.train.AdamOptimizer(LEARNING_RATE).minimize(cross_entropy)"
      ],
      "execution_count": 0,
      "outputs": []
    },
    {
      "metadata": {
        "id": "bH-6DoSNigVD",
        "colab_type": "code",
        "colab": {}
      },
      "cell_type": "code",
      "source": [
        "# 評価\n",
        "\n",
        "# [0.05, 0.01, 0.04, 0.1, 0.02, 0.05, 0.2, 0.03, 0.4, 0.1] => 8\n",
        "predict = tf.argmax(y,1)\n",
        "\n",
        "correct_prediction = tf.equal(tf.argmax(y,1), tf.argmax(y_,1))\n",
        "accuracy = tf.reduce_mean(tf.cast(correct_prediction, 'float'))"
      ],
      "execution_count": 0,
      "outputs": []
    },
    {
      "metadata": {
        "id": "GcbD5eFIiiXa",
        "colab_type": "code",
        "colab": {}
      },
      "cell_type": "code",
      "source": [
        "# エポックの回数\n",
        "epochs_completed = 0\n",
        "index_in_epoch = 0\n",
        "# 訓練データ数\n",
        "num_examples = train_images.shape[0]\n",
        "\n",
        "# バッチごとのデータを返す\n",
        "def next_batch(batch_size):\n",
        "    \n",
        "    global train_images\n",
        "    global train_labels\n",
        "    global index_in_epoch\n",
        "    global epochs_completed\n",
        "    \n",
        "    start = index_in_epoch\n",
        "    index_in_epoch += batch_size\n",
        "    \n",
        "    # すべての訓練データを使い切ったらランダムに並べ替えて再利用する\n",
        "    if index_in_epoch > num_examples:\n",
        "        epochs_completed += 1\n",
        "        # データをシャッフルする\n",
        "        perm = np.arange(num_examples)\n",
        "        np.random.shuffle(perm)\n",
        "        train_images = train_images[perm]\n",
        "        train_labels = train_labels[perm]\n",
        "        # 次のエポックを始める\n",
        "        start = 0\n",
        "        index_in_epoch = batch_size\n",
        "        assert batch_size <= num_examples\n",
        "    end = index_in_epoch\n",
        "    return train_images[start:end], train_labels[start:end]"
      ],
      "execution_count": 0,
      "outputs": []
    },
    {
      "metadata": {
        "id": "N4XCw4eJikpA",
        "colab_type": "code",
        "colab": {}
      },
      "cell_type": "code",
      "source": [
        "init = tf.global_variables_initializer()\n",
        "sess = tf.InteractiveSession()\n",
        "sess.run(init)"
      ],
      "execution_count": 0,
      "outputs": []
    },
    {
      "metadata": {
        "id": "twAUGo3zjSo9",
        "colab_type": "code",
        "colab": {}
      },
      "cell_type": "code",
      "source": [
        "TRAINING_ITERATIONS = 2500\n",
        "BATCH_SIZE = 50\n",
        "DROPOUT = 0.5\n",
        "\n",
        "for i in range(TRAINING_ITERATIONS):\n",
        "    # 新しいバッチを取得する\n",
        "    batch_xs, batch_ys = next_batch(BATCH_SIZE)\n",
        "    # バッチを訓練する\n",
        "    sess.run(train_step, feed_dict={x: batch_xs, y_: batch_ys, rate: DROPOUT})"
      ],
      "execution_count": 0,
      "outputs": []
    },
    {
      "metadata": {
        "id": "E9c6vaVZjU6x",
        "colab_type": "code",
        "colab": {}
      },
      "cell_type": "code",
      "source": [
        "# 検証データのラベルのOne-hotベクトルを作る\n",
        "onehot_validation_labels = np_utils.to_categorical(validation_labels).astype(np.uint8)\n",
        "\n",
        "# 検証データの精度を評価する\n",
        "validation_accuracy = accuracy.eval(feed_dict={x: validation_images, \n",
        "                                               y_: onehot_validation_labels, \n",
        "                                               rate: 0.0})\n",
        "print('検証データの精度 => %.4f'%validation_accuracy)"
      ],
      "execution_count": 0,
      "outputs": []
    },
    {
      "metadata": {
        "id": "W3jLTlCRja5G",
        "colab_type": "code",
        "colab": {}
      },
      "cell_type": "code",
      "source": [
        "# 検証データで予測する\n",
        "predicted_lables = np.zeros(validation_images.shape[0])\n",
        "predicted_lables = predict.eval(feed_dict={x: validation_images, rate: 0.0})\n",
        "print('検証データ数 => {}'.format(len(predicted_lables)))"
      ],
      "execution_count": 0,
      "outputs": []
    },
    {
      "metadata": {
        "id": "axKXglwnjedG",
        "colab_type": "code",
        "colab": {}
      },
      "cell_type": "code",
      "source": [
        "# 検証データの画像と予測結果を出力する\n",
        "IMAGE_TO_DISPLAY = 20\n",
        "\n",
        "print('正解ラベル => {}\\n予測したラベル => {}'.format(validation_labels[IMAGE_TO_DISPLAY], predicted_lables[IMAGE_TO_DISPLAY]))\n",
        "display(validation_images[IMAGE_TO_DISPLAY])"
      ],
      "execution_count": 0,
      "outputs": []
    },
    {
      "metadata": {
        "id": "VqW8xZ-Cj5Zj",
        "colab_type": "code",
        "colab": {}
      },
      "cell_type": "code",
      "source": [
        "# 正解と予測が異なるデータを見る\n",
        "np.where(validation_labels != predicted_lables)"
      ],
      "execution_count": 0,
      "outputs": []
    },
    {
      "metadata": {
        "id": "DcQYg4Ogm0a6",
        "colab_type": "code",
        "colab": {}
      },
      "cell_type": "code",
      "source": [
        "# テストデータを読み込む\n",
        "test_images = test_images.astype(np.float)\n",
        "test_images = np.multiply(test_images, 1.0 / 255.0)\n",
        "test_images = test_images.reshape([test_images_size, image_size])\n",
        "test_labels = np_utils.to_categorical(test_labels).astype(np.uint8)\n",
        "print('テストデータの画像 => {0[0]},{0[1]}\\nテストデータのラベル => {1[0]},{1[1]}'.format(test_images.shape, test_labels.shape))"
      ],
      "execution_count": 0,
      "outputs": []
    },
    {
      "metadata": {
        "id": "HULsZkIMm9Ds",
        "colab_type": "code",
        "colab": {}
      },
      "cell_type": "code",
      "source": [
        "test_accuracy = accuracy.eval(feed_dict={x: test_images, y_: test_labels, rate: 0.0})\n",
        "print('テストデータの精度 => %.4f'%test_accuracy)"
      ],
      "execution_count": 0,
      "outputs": []
    },
    {
      "metadata": {
        "id": "roHmwo48kgG6",
        "colab_type": "code",
        "colab": {}
      },
      "cell_type": "code",
      "source": [
        "sess.close()"
      ],
      "execution_count": 0,
      "outputs": []
    },
    {
      "metadata": {
        "id": "_Q3F8zQl3JaB",
        "colab_type": "code",
        "colab": {}
      },
      "cell_type": "code",
      "source": [
        ""
      ],
      "execution_count": 0,
      "outputs": []
    }
  ]
}